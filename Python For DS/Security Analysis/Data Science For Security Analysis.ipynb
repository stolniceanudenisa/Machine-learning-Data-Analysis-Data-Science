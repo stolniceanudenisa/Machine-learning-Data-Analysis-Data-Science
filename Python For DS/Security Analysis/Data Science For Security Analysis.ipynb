{
 "cells": [
  {
   "cell_type": "markdown",
   "metadata": {},
   "source": [
    "### Author : Sanjoy Biswas\n",
    "### Topic : Data Science For Security Analysis\n",
    "### Email : sanjoy.eee32@gmail.com"
   ]
  },
  {
   "cell_type": "markdown",
   "metadata": {},
   "source": [
    "## Identify files via file extensions"
   ]
  },
  {
   "cell_type": "markdown",
   "metadata": {},
   "source": [
    "A regular expression to check for file extensions.  \n",
    "\n",
    "Note: This approach is not recommended for thorough limitation of file types (parse the file header instead). However, this regex is still a useful alternative to e.g., a Python's `endswith` approach for quick pre-filtering for certain files of interest."
   ]
  },
  {
   "cell_type": "code",
   "execution_count": 9,
   "metadata": {},
   "outputs": [],
   "source": [
    "pattern = r'(?i)(\\w+)\\.(jpeg|jpg|png|gif|tif|svg)$'\n",
    "\n",
    "# remove `(?i)` to make regexpr case-sensitive\n",
    "\n",
    "str_true = ('test.gif', \n",
    "            'image.jpeg', \n",
    "            'image.jpg',\n",
    "            'image.TIF'\n",
    "            )\n",
    "\n",
    "str_false = ('test.pdf',\n",
    "             'test.gif.pdf',\n",
    "             )\n",
    "\n",
    "for t in str_true:\n",
    "    assert(bool(re.match(pattern, t)) == True), '%s is not True' %t\n",
    "for f in str_false:\n",
    "    assert(bool(re.match(pattern, f)) == False), '%s is not False' %f"
   ]
  },
  {
   "cell_type": "markdown",
   "metadata": {},
   "source": [
    "<br>\n",
    "<br>"
   ]
  },
  {
   "cell_type": "markdown",
   "metadata": {},
   "source": [
    "## Username validation"
   ]
  },
  {
   "cell_type": "markdown",
   "metadata": {},
   "source": [
    "Checking for a valid user name that has a certain minimum and maximum length.\n",
    "\n",
    "Allowed characters:\n",
    "- letters (upper- and lower-case)\n",
    "- numbers\n",
    "- dashes\n",
    "- underscores"
   ]
  },
  {
   "cell_type": "code",
   "execution_count": 10,
   "metadata": {},
   "outputs": [
    {
     "name": "stderr",
     "output_type": "stream",
     "text": [
      "C:\\Users\\imsanjoykb\\Anaconda3\\lib\\site-packages\\ipykernel_launcher.py:15: DeprecationWarning: Flags not at the start of the expression '^(?i)[a-z0-9_-]{5,15' (truncated)\n",
      "  from ipykernel import kernelapp as app\n"
     ]
    }
   ],
   "source": [
    "min_len = 5 # minimum length for a valid username\n",
    "max_len = 15 # maximum length for a valid username\n",
    "\n",
    "pattern = r\"^(?i)[a-z0-9_-]{%s,%s}$\" %(min_len, max_len)\n",
    "\n",
    "# remove `(?i)` to only allow lower-case letters\n",
    "\n",
    "\n",
    "\n",
    "str_true = ('user123', '123_user', 'Username')\n",
    "            \n",
    "str_false = ('user', 'username1234_is-way-too-long', 'user$34354')\n",
    "\n",
    "for t in str_true:\n",
    "    assert(bool(re.match(pattern, t)) == True), '%s is not True' %t\n",
    "for f in str_false:\n",
    "    assert(bool(re.match(pattern, f)) == False), '%s is not False' %f"
   ]
  },
  {
   "cell_type": "markdown",
   "metadata": {},
   "source": [
    "<br>\n",
    "<br>"
   ]
  },
  {
   "cell_type": "markdown",
   "metadata": {},
   "source": [
    "## Checking for valid email addresses"
   ]
  },
  {
   "cell_type": "markdown",
   "metadata": {},
   "source": [
    "A regular expression that captures most email addresses."
   ]
  },
  {
   "cell_type": "code",
   "execution_count": 11,
   "metadata": {},
   "outputs": [],
   "source": [
    "pattern = r\"(^[a-zA-Z0-9_.+-]+@[a-zA-Z0-9-]+\\.[a-zA-Z0-9-.]+$)\"\n",
    "\n",
    "str_true = ('test@mail.com',)\n",
    "            \n",
    "str_false = ('testmail.com', '@testmail.com', 'test@mailcom')\n",
    "\n",
    "for t in str_true:\n",
    "    assert(bool(re.match(pattern, t)) == True), '%s is not True' %t\n",
    "for f in str_false:\n",
    "    assert(bool(re.match(pattern, f)) == False), '%s is not False' %f"
   ]
  },
  {
   "cell_type": "markdown",
   "metadata": {},
   "source": [
    "## Check for a valid URL"
   ]
  },
  {
   "cell_type": "markdown",
   "metadata": {},
   "source": [
    "Checks for an URL if a string ...\n",
    "\n",
    "- starts with `https://`, or `http://`, or `www.`\n",
    "- or ends with a dot extension"
   ]
  },
  {
   "cell_type": "code",
   "execution_count": 12,
   "metadata": {},
   "outputs": [],
   "source": [
    "pattern = '^(https?:\\/\\/)?([\\da-z\\.-]+)\\.([a-z\\.]{2,6})([\\/\\w \\.-]*)*\\/?$'\n",
    "\n",
    "str_true = ('https://github.com', \n",
    "            'http://github.com',\n",
    "            'www.github.com',\n",
    "            'github.com',\n",
    "            'test.de',\n",
    "            'https://github.com/rasbt',\n",
    "            'test.jpeg' # !!! \n",
    "            )\n",
    "            \n",
    "str_false = ('testmailcom', 'http:testmailcom', )\n",
    "\n",
    "for t in str_true:\n",
    "    assert(bool(re.match(pattern, t)) == True), '%s is not True' %t\n",
    "\n",
    "for f in str_false:\n",
    "    assert(bool(re.match(pattern, f)) == False), '%s is not False' %f"
   ]
  },
  {
   "cell_type": "markdown",
   "metadata": {},
   "source": [
    "## Checking for numbers"
   ]
  },
  {
   "cell_type": "markdown",
   "metadata": {},
   "source": [
    "### Positive integers"
   ]
  },
  {
   "cell_type": "code",
   "execution_count": 13,
   "metadata": {},
   "outputs": [],
   "source": [
    "pattern = '^\\d+$'\n",
    "\n",
    "str_true = ('123', '1', )\n",
    "            \n",
    "str_false = ('abc', '1.1', )\n",
    "\n",
    "for t in str_true:\n",
    "    assert(bool(re.match(pattern, t)) == True), '%s is not True' %t\n",
    "\n",
    "for f in str_false:\n",
    "    assert(bool(re.match(pattern, f)) == False), '%s is not False' %f"
   ]
  },
  {
   "cell_type": "markdown",
   "metadata": {},
   "source": [
    "### Negative integers"
   ]
  },
  {
   "cell_type": "code",
   "execution_count": 14,
   "metadata": {},
   "outputs": [],
   "source": [
    "pattern = '^-\\d+$'\n",
    "\n",
    "str_true = ('-123', '-1', )\n",
    "            \n",
    "str_false = ('123', '-abc', '-1.1', )\n",
    "\n",
    "for t in str_true:\n",
    "    assert(bool(re.match(pattern, t)) == True), '%s is not True' %t\n",
    "\n",
    "for f in str_false:\n",
    "    assert(bool(re.match(pattern, f)) == False), '%s is not False' %f"
   ]
  },
  {
   "cell_type": "markdown",
   "metadata": {},
   "source": [
    "### All integers"
   ]
  },
  {
   "cell_type": "code",
   "execution_count": 15,
   "metadata": {},
   "outputs": [],
   "source": [
    "pattern = '^-{0,1}\\d+$'\n",
    "\n",
    "str_true = ('-123', '-1', '1', '123',)\n",
    "            \n",
    "str_false = ('123.0', '-abc', '-1.1', )\n",
    "\n",
    "for t in str_true:\n",
    "    assert(bool(re.match(pattern, t)) == True), '%s is not True' %t\n",
    "\n",
    "for f in str_false:\n",
    "    assert(bool(re.match(pattern, f)) == False), '%s is not False' %f"
   ]
  },
  {
   "cell_type": "markdown",
   "metadata": {},
   "source": [
    "### Positive numbers"
   ]
  },
  {
   "cell_type": "code",
   "execution_count": 16,
   "metadata": {},
   "outputs": [],
   "source": [
    "pattern = '^\\d*\\.{0,1}\\d+$'\n",
    "\n",
    "str_true = ('1', '123', '1.234', )\n",
    "            \n",
    "str_false = ('-abc', '-123', '-123.0')\n",
    "\n",
    "for t in str_true:\n",
    "    assert(bool(re.match(pattern, t)) == True), '%s is not True' %t\n",
    "\n",
    "for f in str_false:\n",
    "    assert(bool(re.match(pattern, f)) == False), '%s is not False' %f"
   ]
  },
  {
   "cell_type": "markdown",
   "metadata": {},
   "source": [
    "### Negative numbers"
   ]
  },
  {
   "cell_type": "code",
   "execution_count": 17,
   "metadata": {},
   "outputs": [],
   "source": [
    "pattern = '^-\\d*\\.{0,1}\\d+$'\n",
    "\n",
    "str_true = ('-1', '-123', '-123.0', )\n",
    "            \n",
    "str_false = ('-abc', '1', '123', '1.234', )\n",
    "\n",
    "for t in str_true:\n",
    "    assert(bool(re.match(pattern, t)) == True), '%s is not True' %t\n",
    "\n",
    "for f in str_false:\n",
    "    assert(bool(re.match(pattern, f)) == False), '%s is not False' %f"
   ]
  },
  {
   "cell_type": "markdown",
   "metadata": {},
   "source": [
    "### All numbers"
   ]
  },
  {
   "cell_type": "code",
   "execution_count": 19,
   "metadata": {},
   "outputs": [],
   "source": [
    "pattern = '^-{0,1}\\d*\\.{0,1}\\d+$'\n",
    "\n",
    "str_true = ('1', '123', '1.234', '-123', '-123.0')\n",
    "            \n",
    "str_false = ('-abc')\n",
    "\n",
    "for t in str_true:\n",
    "    assert(bool(re.match(pattern, t)) == True), '%s is not True' %t\n",
    "\n",
    "for f in str_false:\n",
    "    assert(bool(re.match(pattern, f)) == False), '%s is not False' %f"
   ]
  },
  {
   "cell_type": "markdown",
   "metadata": {},
   "source": [
    "## Validating dates"
   ]
  },
  {
   "cell_type": "markdown",
   "metadata": {},
   "source": [
    "Validates dates in `mm/dd/yyyy` format."
   ]
  },
  {
   "cell_type": "code",
   "execution_count": 15,
   "metadata": {},
   "outputs": [],
   "source": [
    "pattern = '^(0[1-9]|1[0-2])\\/(0[1-9]|1\\d|2\\d|3[01])\\/(19|20)\\d{2}$'\n",
    "\n",
    "str_true = ('01/08/2014', '12/30/2014', )\n",
    "            \n",
    "str_false = ('22/08/2014', '-123', '1/8/2014', '1/08/2014', '01/8/2014')\n",
    "\n",
    "for t in str_true:\n",
    "    assert(bool(re.match(pattern, t)) == True), '%s is not True' %t\n",
    "\n",
    "for f in str_false:\n",
    "    assert(bool(re.match(pattern, f)) == False), '%s is not False' %f"
   ]
  },
  {
   "cell_type": "markdown",
   "metadata": {},
   "source": [
    "### 12-Hour format"
   ]
  },
  {
   "cell_type": "code",
   "execution_count": 20,
   "metadata": {},
   "outputs": [
    {
     "name": "stderr",
     "output_type": "stream",
     "text": [
      "C:\\Users\\imsanjoykb\\Anaconda3\\lib\\site-packages\\ipykernel_launcher.py:8: DeprecationWarning: Flags not at the start of the expression '^(1[012]|[1-9]):[0-5' (truncated)\n",
      "  \n"
     ]
    }
   ],
   "source": [
    "pattern = r'^(1[012]|[1-9]):[0-5][0-9](\\s)?(?i)(am|pm)$'\n",
    "\n",
    "str_true = ('2:00pm', '7:30 AM', '12:05 am', )\n",
    "            \n",
    "str_false = ('22:00pm', '14:00', '3:12', '03:12pm', )\n",
    "\n",
    "for t in str_true:\n",
    "    assert(bool(re.match(pattern, t)) == True), '%s is not True' %t\n",
    "\n",
    "for f in str_false:\n",
    "    assert(bool(re.match(pattern, f)) == False), '%s is not False' %f"
   ]
  },
  {
   "cell_type": "markdown",
   "metadata": {},
   "source": [
    "### 24-Hour format"
   ]
  },
  {
   "cell_type": "code",
   "execution_count": 21,
   "metadata": {},
   "outputs": [],
   "source": [
    "pattern = r'^([0-1]{1}[0-9]{1}|20|21|22|23):[0-5]{1}[0-9]{1}$'\n",
    "\n",
    "str_true = ('14:00', '00:30', )\n",
    "            \n",
    "str_false = ('22:00pm', '4:00', )\n",
    "\n",
    "for t in str_true:\n",
    "    assert(bool(re.match(pattern, t)) == True), '%s is not True' %t\n",
    "for f in str_false:\n",
    "    assert(bool(re.match(pattern, f)) == False), '%s is not False' %f"
   ]
  },
  {
   "cell_type": "markdown",
   "metadata": {},
   "source": [
    "## Checking for HTML tags"
   ]
  },
  {
   "cell_type": "code",
   "execution_count": 16,
   "metadata": {},
   "outputs": [],
   "source": [
    "pattern = r\"\"\"</?\\w+((\\s+\\w+(\\s*=\\s*(?:\".*?\"|'.*?'|[^'\">\\s]+))?)+\\s*|\\s*)/?>\"\"\"\n",
    "\n",
    "str_true = ('<a>', '<a href=\"something\">', '</a>', '<img src>')\n",
    "            \n",
    "str_false = ('a>', '<a ', '< a >')\n",
    "\n",
    "for t in str_true:\n",
    "    assert(bool(re.match(pattern, t)) == True), '%s is not True' %t\n",
    "\n",
    "for f in str_false:\n",
    "    assert(bool(re.match(pattern, f)) == False), '%s is not False' %f"
   ]
  },
  {
   "cell_type": "markdown",
   "metadata": {},
   "source": [
    "## Checking for IP addresses"
   ]
  },
  {
   "cell_type": "markdown",
   "metadata": {},
   "source": [
    "# Ipv4"
   ]
  },
  {
   "cell_type": "markdown",
   "metadata": {},
   "source": [
    "<font size=\"1px\">Image source: http://en.wikipedia.org/wiki/File:Ipv4_address.svg</font>"
   ]
  },
  {
   "cell_type": "code",
   "execution_count": 8,
   "metadata": {},
   "outputs": [],
   "source": [
    "pattern = r'^(?:(?:25[0-5]|2[0-4][0-9]|[01]?[0-9][0-9]?)\\.){3}(?:25[0-5]|2[0-4][0-9]|[01]?[0-9][0-9]?)$'\n",
    "\n",
    "str_true = ('172.16.254.1', '1.2.3.4', '01.102.103.104', )\n",
    "            \n",
    "str_false = ('17216.254.1', '1.2.3.4.5', '01 .102.103.104', )\n",
    "\n",
    "for t in str_true:\n",
    "    assert(bool(re.match(pattern, t)) == True), '%s is not True' %t\n",
    "\n",
    "for f in str_false:\n",
    "    assert(bool(re.match(pattern, f)) == False), '%s is not False' %f"
   ]
  },
  {
   "cell_type": "markdown",
   "metadata": {},
   "source": [
    "### Ipv6"
   ]
  },
  {
   "cell_type": "markdown",
   "metadata": {},
   "source": [
    "![](../Images/Ipv6_address.png)"
   ]
  },
  {
   "cell_type": "code",
   "execution_count": 21,
   "metadata": {},
   "outputs": [],
   "source": [
    "pattern = r'^\\s*((([0-9A-Fa-f]{1,4}:){7}([0-9A-Fa-f]{1,4}|:))|(([0-9A-Fa-f]{1,4}:){6}(:[0-9A-Fa-f]{1,4}|((25[0-5]|2[0-4]\\d|1\\d\\d|[1-9]?\\d)(\\.(25[0-5]|2[0-4]\\d|1\\d\\d|[1-9]?\\d)){3})|:))|(([0-9A-Fa-f]{1,4}:){5}(((:[0-9A-Fa-f]{1,4}){1,2})|:((25[0-5]|2[0-4]\\d|1\\d\\d|[1-9]?\\d)(\\.(25[0-5]|2[0-4]\\d|1\\d\\d|[1-9]?\\d)){3})|:))|(([0-9A-Fa-f]{1,4}:){4}(((:[0-9A-Fa-f]{1,4}){1,3})|((:[0-9A-Fa-f]{1,4})?:((25[0-5]|2[0-4]\\d|1\\d\\d|[1-9]?\\d)(\\.(25[0-5]|2[0-4]\\d|1\\d\\d|[1-9]?\\d)){3}))|:))|(([0-9A-Fa-f]{1,4}:){3}(((:[0-9A-Fa-f]{1,4}){1,4})|((:[0-9A-Fa-f]{1,4}){0,2}:((25[0-5]|2[0-4]\\d|1\\d\\d|[1-9]?\\d)(\\.(25[0-5]|2[0-4]\\d|1\\d\\d|[1-9]?\\d)){3}))|:))|(([0-9A-Fa-f]{1,4}:){2}(((:[0-9A-Fa-f]{1,4}){1,5})|((:[0-9A-Fa-f]{1,4}){0,3}:((25[0-5]|2[0-4]\\d|1\\d\\d|[1-9]?\\d)(\\.(25[0-5]|2[0-4]\\d|1\\d\\d|[1-9]?\\d)){3}))|:))|(([0-9A-Fa-f]{1,4}:){1}(((:[0-9A-Fa-f]{1,4}){1,6})|((:[0-9A-Fa-f]{1,4}){0,4}:((25[0-5]|2[0-4]\\d|1\\d\\d|[1-9]?\\d)(\\.(25[0-5]|2[0-4]\\d|1\\d\\d|[1-9]?\\d)){3}))|:))|(:(((:[0-9A-Fa-f]{1,4}){1,7})|((:[0-9A-Fa-f]{1,4}){0,5}:((25[0-5]|2[0-4]\\d|1\\d\\d|[1-9]?\\d)(\\.(25[0-5]|2[0-4]\\d|1\\d\\d|[1-9]?\\d)){3}))|:)))(%.+)?\\s*$'\n",
    "\n",
    "str_true = ('2001:470:9b36:1::2',\n",
    "            '2001:cdba:0000:0000:0000:0000:3257:9652', \n",
    "            '2001:cdba:0:0:0:0:3257:9652', \n",
    "            '2001:cdba::3257:9652', )\n",
    "            \n",
    "str_false = ('1200::AB00:1234::2552:7777:1313', # uses `::` twice\n",
    "             '1200:0000:AB00:1234:O000:2552:7777:1313', ) # contains an O instead of 0\n",
    "\n",
    "for t in str_true:\n",
    "    assert(bool(re.match(pattern, t)) == True), '%s is not True' %t\n",
    "\n",
    "for f in str_false:\n",
    "    assert(bool(re.match(pattern, f)) == False), '%s is not False' %f"
   ]
  },
  {
   "cell_type": "markdown",
   "metadata": {},
   "source": [
    "## Checking for MAC addresses"
   ]
  },
  {
   "cell_type": "markdown",
   "metadata": {},
   "source": [
    "![](../Images/MACaddressV3.png)"
   ]
  },
  {
   "cell_type": "code",
   "execution_count": 22,
   "metadata": {},
   "outputs": [
    {
     "name": "stderr",
     "output_type": "stream",
     "text": [
      "C:\\Users\\imsanjoykb\\Anaconda3\\lib\\site-packages\\ipykernel_launcher.py:12: DeprecationWarning: Flags not at the start of the expression '^(?i)([0-9A-F]{2}[:-' (truncated)\n",
      "  if sys.path[0] == '':\n"
     ]
    }
   ],
   "source": [
    "pattern = r'^(?i)([0-9A-F]{2}[:-]){5}([0-9A-F]{2})$'\n",
    "\n",
    "str_true = ('94-AE-70-A0-66-83', \n",
    "            '58-f8-1a-00-44-c8',\n",
    "            '00:A0:C9:14:C8:29'\n",
    "            , )\n",
    "            \n",
    "str_false = ('0:00:00:00:00:00', \n",
    "             '94-AE-70-A0 -66-83', ) \n",
    "\n",
    "for t in str_true:\n",
    "    assert(bool(re.match(pattern, t)) == True), '%s is not True' %t\n",
    "\n",
    "for f in str_false:\n",
    "    assert(bool(re.match(pattern, f)) == False), '%s is not False' %f"
   ]
  },
  {
   "cell_type": "code",
   "execution_count": 23,
   "metadata": {},
   "outputs": [
    {
     "data": {
      "text/plain": [
       "False"
      ]
     },
     "execution_count": 23,
     "metadata": {},
     "output_type": "execute_result"
    }
   ],
   "source": [
    "def check_ssl(url):\n",
    "    \"\"\"Check if the ssl certificate is valid.\"\"\"\n",
    "    try:\n",
    "        requests.get(url, verify=True, timeout=3)\n",
    "        return True\n",
    "    except Exception:\n",
    "        return False\n",
    "check_ssl('http://atecobois.fr/es/app.html')"
   ]
  },
  {
   "cell_type": "code",
   "execution_count": 2,
   "metadata": {},
   "outputs": [
    {
     "data": {
      "text/plain": [
       "'False'"
      ]
     },
     "execution_count": 2,
     "metadata": {},
     "output_type": "execute_result"
    }
   ],
   "source": [
    "def get_ptr(url):\n",
    "    \"\"\"Return PTR associated with IP.\"\"\"\n",
    "    try:\n",
    "        if valid_ip(url['host']):\n",
    "            ip = url['host']\n",
    "        else:\n",
    "            ip = resolver.query(url['host'], 'A')\n",
    "            ip = ip[0].to_text()\n",
    "\n",
    "        if ip:\n",
    "            r = reversename.from_address(ip)\n",
    "            result = resolver.query(r, 'PTR')[0].to_text()\n",
    "            return result\n",
    "        else:\n",
    "            return 'True'\n",
    "    except Exception:\n",
    "        return 'False'\n",
    "get_ptr('http://atecobois.fr/es/app.html')"
   ]
  },
  {
   "cell_type": "code",
   "execution_count": 3,
   "metadata": {},
   "outputs": [
    {
     "data": {
      "text/plain": [
       "'False'"
      ]
     },
     "execution_count": 3,
     "metadata": {},
     "output_type": "execute_result"
    }
   ],
   "source": [
    "def get_country(url):\n",
    "    \"\"\"Return the country associated with IP.\"\"\"\n",
    "    try:\n",
    "        if valid_ip(url['host']):\n",
    "            ip = url['host']\n",
    "        else:\n",
    "            ip = resolver.query(url['host'], 'A')\n",
    "            ip = ip[0].to_text()\n",
    "\n",
    "        if ip:\n",
    "            reader = geoip2.database.Reader(PATH + 'GeoLite2-Country.mmdb')\n",
    "            response = reader.country(ip)\n",
    "            return response.country.iso_code\n",
    "        else:\n",
    "            return 'True'\n",
    "    except Exception:\n",
    "        return 'False'\n",
    "get_country('http://atecobois.fr/es/app.html')"
   ]
  },
  {
   "cell_type": "code",
   "execution_count": 4,
   "metadata": {},
   "outputs": [
    {
     "data": {
      "text/plain": [
       "'False'"
      ]
     },
     "execution_count": 4,
     "metadata": {},
     "output_type": "execute_result"
    }
   ],
   "source": [
    "def get_asn_number(url):\n",
    "    \"\"\"Return the ANS number associated with the IP.\"\"\"\n",
    "    try:\n",
    "        with geoip2.database.Reader(PATH + 'GeoLite2-ASN.mmdb') as reader:\n",
    "            if valid_ip(url['host']):\n",
    "                ip = url['host']\n",
    "            else:\n",
    "                ip = resolver.query(url['host'], 'A')\n",
    "                ip = ip[0].to_text()\n",
    "\n",
    "            if ip:\n",
    "                response = reader.asn(ip)\n",
    "                return response.autonomous_system_number\n",
    "            else:\n",
    "                return 'True'\n",
    "    except Exception:\n",
    "        return 'False'\n",
    "get_asn_number('http://atecobois.fr/es/app.html')"
   ]
  },
  {
   "cell_type": "code",
   "execution_count": 5,
   "metadata": {},
   "outputs": [
    {
     "data": {
      "text/plain": [
       "'False'"
      ]
     },
     "execution_count": 5,
     "metadata": {},
     "output_type": "execute_result"
    }
   ],
   "source": [
    "def check_blacklists_ip(url):\n",
    "    \"\"\"Check if the IP is malicious through Google Safebrowsing, Phishtank and WOT.\"\"\"\n",
    "    try:\n",
    "        if valid_ip(url['host']):\n",
    "            ip = url['host']\n",
    "        else:\n",
    "            ip = resolver.query(url['host'], 'A')\n",
    "            ip = ip[0].to_text()\n",
    "\n",
    "        if ip:\n",
    "            if (google_safebrowsing(ip) or phishtank(ip) or wot(ip)):\n",
    "                return True\n",
    "            return False\n",
    "        else:\n",
    "            return 'True'\n",
    "    except Exception:\n",
    "        return 'False'\n",
    "check_blacklists_ip('http://atecobois.fr/es/app.html')"
   ]
  },
  {
   "cell_type": "markdown",
   "metadata": {},
   "source": [
    "## Parsing Phone Number"
   ]
  },
  {
   "cell_type": "code",
   "execution_count": null,
   "metadata": {},
   "outputs": [],
   "source": [
    "import re\n",
    "pattern = re.compile(r'^(\\d{3})-(\\d{3})-(\\d{4})$')\n",
    "pattern.search('415-867-5309')\n",
    "_sre.SRE_Match object at 0x02FCDD40>\n",
    "pattern.search('415-867-5309').groups()\n",
    "('415', '867', '5309')"
   ]
  },
  {
   "cell_type": "markdown",
   "metadata": {},
   "source": [
    "# Extract Subdomain Form a URL"
   ]
  },
  {
   "cell_type": "code",
   "execution_count": null,
   "metadata": {},
   "outputs": [],
   "source": [
    "from tldextract import extract\n",
    " \n",
    "urls_file = \"urlhaus_url.csv\"\n",
    "#URLs should be in column A without a heading, in a CSV file named \"urls_file.csv\"\n",
    " \n",
    "urls = [line.rstrip('\\n') for line in open(urls_file, errors='ignore')]\n",
    "lst=[] \n",
    "for url in urls:\n",
    "    tsd, td, tsu = extract(url)\n",
    "    url = tsd +'.' + td + '.' + tsu\n",
    "    lst.append(url)"
   ]
  },
  {
   "cell_type": "markdown",
   "metadata": {},
   "source": [
    "# Extract Domain From a URL"
   ]
  },
  {
   "cell_type": "code",
   "execution_count": null,
   "metadata": {},
   "outputs": [],
   "source": [
    "from tldextract import extract\n",
    " \n",
    "urls_file = \"urlhaus_url.csv\"\n",
    "#URLs should be in column A without a heading, in a CSV file named \"urls_file.csv\"\n",
    " \n",
    "urls = [line.rstrip('\\n') for line in open(urls_file, errors='ignore')]\n",
    "lst=[] \n",
    "for url in urls:\n",
    "    tsd, td, tsu = extract(url)\n",
    "    url = td + '.' + tsu\n",
    "    lst.append(url)"
   ]
  },
  {
   "cell_type": "markdown",
   "metadata": {},
   "source": [
    "# Count Name Server From a URL"
   ]
  },
  {
   "cell_type": "code",
   "execution_count": null,
   "metadata": {},
   "outputs": [],
   "source": [
    "def count_name_servers(url):\n",
    "    \"\"\"Return number of NameServers (NS) resolved.\"\"\"\n",
    "    count = 0\n",
    "    if count_ips(url):\n",
    "        try:\n",
    "            answers = resolver.query(url['host'], 'NS')\n",
    "            return len(answers)\n",
    "        except (resolver.NoAnswer, resolver.NXDOMAIN):\n",
    "            split_host = url['host'].split('.')\n",
    "            while len(split_host) > 0:\n",
    "                split_host.pop(0)\n",
    "                supposed_domain = '.'.join(split_host)\n",
    "                try:\n",
    "                    answers = resolver.query(supposed_domain, 'NS')\n",
    "                    count = len(answers)\n",
    "                    break\n",
    "                except Exception:\n",
    "                    count = 0\n",
    "        except Exception:\n",
    "            count = 0\n",
    "    return count\n",
    "count_name_servers('http://atecobois.fr/es/app.html')"
   ]
  },
  {
   "cell_type": "markdown",
   "metadata": {},
   "source": [
    "# Time Activation of Domain"
   ]
  },
  {
   "cell_type": "code",
   "execution_count": null,
   "metadata": {},
   "outputs": [],
   "source": [
    "def time_activation_domain(url):\n",
    "    \"\"\"Return time (in days) of domain activation.\"\"\"\n",
    "    if url['host'].startswith(\"www.\"):\n",
    "        url['host'] = url['host'][4:]\n",
    "\n",
    "    pythonwhois.net.socket.setdefaulttimeout(3.0)\n",
    "    try:\n",
    "        result_whois = pythonwhois.get_whois(url['host'].lower())\n",
    "        if not result_whois:\n",
    "            return '?'\n",
    "        creation_date = str(result_whois['creation_date'][0])\n",
    "        formated_date = \" \".join(creation_date.split()[:1])\n",
    "        d1 = datetime.strptime(formated_date, \"%Y-%m-%d\")\n",
    "        d2 = datetime.now()\n",
    "        return abs((d2 - d1).days)\n",
    "    except Exception:\n",
    "        return '?'"
   ]
  },
  {
   "cell_type": "markdown",
   "metadata": {},
   "source": [
    "Special Thanks to :\n",
    "    1.https://sebastianraschka.com/\n",
    "    2.towardsdatascience.com\n",
    "    3.https://docs.python.org/3/library/re.html"
   ]
  },
  {
   "cell_type": "code",
   "execution_count": null,
   "metadata": {},
   "outputs": [],
   "source": []
  }
 ],
 "metadata": {
  "kernelspec": {
   "display_name": "Python 3",
   "language": "python",
   "name": "python3"
  },
  "language_info": {
   "codemirror_mode": {
    "name": "ipython",
    "version": 3
   },
   "file_extension": ".py",
   "mimetype": "text/x-python",
   "name": "python",
   "nbconvert_exporter": "python",
   "pygments_lexer": "ipython3",
   "version": "3.7.4"
  }
 },
 "nbformat": 4,
 "nbformat_minor": 1
}
