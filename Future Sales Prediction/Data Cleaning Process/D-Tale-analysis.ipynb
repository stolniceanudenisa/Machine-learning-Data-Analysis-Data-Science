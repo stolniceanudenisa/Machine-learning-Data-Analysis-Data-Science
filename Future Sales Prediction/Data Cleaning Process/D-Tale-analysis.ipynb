{
 "cells": [
  {
   "cell_type": "code",
   "execution_count": 1,
   "metadata": {},
   "outputs": [],
   "source": [
    "import dtale\n",
    "import pandas as pd\n",
    "import numpy as np"
   ]
  },
  {
   "cell_type": "code",
   "execution_count": 2,
   "metadata": {},
   "outputs": [
    {
     "data": {
      "text/html": [
       "<div>\n",
       "<style scoped>\n",
       "    .dataframe tbody tr th:only-of-type {\n",
       "        vertical-align: middle;\n",
       "    }\n",
       "\n",
       "    .dataframe tbody tr th {\n",
       "        vertical-align: top;\n",
       "    }\n",
       "\n",
       "    .dataframe thead th {\n",
       "        text-align: right;\n",
       "    }\n",
       "</style>\n",
       "<table border=\"1\" class=\"dataframe\">\n",
       "  <thead>\n",
       "    <tr style=\"text-align: right;\">\n",
       "      <th></th>\n",
       "      <th>#</th>\n",
       "      <th>Name</th>\n",
       "      <th>Type 1</th>\n",
       "      <th>Type 2</th>\n",
       "      <th>Total</th>\n",
       "      <th>HP</th>\n",
       "      <th>Attack</th>\n",
       "      <th>Defense</th>\n",
       "      <th>Sp. Atk</th>\n",
       "      <th>Sp. Def</th>\n",
       "      <th>Speed</th>\n",
       "      <th>Generation</th>\n",
       "      <th>Legendary</th>\n",
       "    </tr>\n",
       "  </thead>\n",
       "  <tbody>\n",
       "    <tr>\n",
       "      <td>0</td>\n",
       "      <td>1</td>\n",
       "      <td>Bulbasaur</td>\n",
       "      <td>Grass</td>\n",
       "      <td>Poison</td>\n",
       "      <td>318</td>\n",
       "      <td>45</td>\n",
       "      <td>49</td>\n",
       "      <td>49</td>\n",
       "      <td>65</td>\n",
       "      <td>65</td>\n",
       "      <td>45</td>\n",
       "      <td>1</td>\n",
       "      <td>False</td>\n",
       "    </tr>\n",
       "    <tr>\n",
       "      <td>1</td>\n",
       "      <td>2</td>\n",
       "      <td>Ivysaur</td>\n",
       "      <td>Grass</td>\n",
       "      <td>Poison</td>\n",
       "      <td>405</td>\n",
       "      <td>60</td>\n",
       "      <td>62</td>\n",
       "      <td>63</td>\n",
       "      <td>80</td>\n",
       "      <td>80</td>\n",
       "      <td>60</td>\n",
       "      <td>1</td>\n",
       "      <td>False</td>\n",
       "    </tr>\n",
       "    <tr>\n",
       "      <td>2</td>\n",
       "      <td>3</td>\n",
       "      <td>Venusaur</td>\n",
       "      <td>Grass</td>\n",
       "      <td>Poison</td>\n",
       "      <td>525</td>\n",
       "      <td>80</td>\n",
       "      <td>82</td>\n",
       "      <td>83</td>\n",
       "      <td>100</td>\n",
       "      <td>100</td>\n",
       "      <td>80</td>\n",
       "      <td>1</td>\n",
       "      <td>False</td>\n",
       "    </tr>\n",
       "    <tr>\n",
       "      <td>3</td>\n",
       "      <td>3</td>\n",
       "      <td>VenusaurMega Venusaur</td>\n",
       "      <td>Grass</td>\n",
       "      <td>Poison</td>\n",
       "      <td>625</td>\n",
       "      <td>80</td>\n",
       "      <td>100</td>\n",
       "      <td>123</td>\n",
       "      <td>122</td>\n",
       "      <td>120</td>\n",
       "      <td>80</td>\n",
       "      <td>1</td>\n",
       "      <td>False</td>\n",
       "    </tr>\n",
       "    <tr>\n",
       "      <td>4</td>\n",
       "      <td>4</td>\n",
       "      <td>Charmander</td>\n",
       "      <td>Fire</td>\n",
       "      <td>NaN</td>\n",
       "      <td>309</td>\n",
       "      <td>39</td>\n",
       "      <td>52</td>\n",
       "      <td>43</td>\n",
       "      <td>60</td>\n",
       "      <td>50</td>\n",
       "      <td>65</td>\n",
       "      <td>1</td>\n",
       "      <td>False</td>\n",
       "    </tr>\n",
       "  </tbody>\n",
       "</table>\n",
       "</div>"
      ],
      "text/plain": [
       "   #                   Name Type 1  Type 2  Total  HP  Attack  Defense  \\\n",
       "0  1              Bulbasaur  Grass  Poison    318  45      49       49   \n",
       "1  2                Ivysaur  Grass  Poison    405  60      62       63   \n",
       "2  3               Venusaur  Grass  Poison    525  80      82       83   \n",
       "3  3  VenusaurMega Venusaur  Grass  Poison    625  80     100      123   \n",
       "4  4             Charmander   Fire     NaN    309  39      52       43   \n",
       "\n",
       "   Sp. Atk  Sp. Def  Speed  Generation  Legendary  \n",
       "0       65       65     45           1      False  \n",
       "1       80       80     60           1      False  \n",
       "2      100      100     80           1      False  \n",
       "3      122      120     80           1      False  \n",
       "4       60       50     65           1      False  "
      ]
     },
     "execution_count": 2,
     "metadata": {},
     "output_type": "execute_result"
    }
   ],
   "source": [
    "df = pd.read_csv(r'F:\\Data Science\\Plotly\\Pokemon.csv')\n",
    "df.head(5)"
   ]
  },
  {
   "cell_type": "code",
   "execution_count": 3,
   "metadata": {},
   "outputs": [
    {
     "data": {
      "text/html": [
       "\n",
       "        <iframe\n",
       "            width=\"100%\"\n",
       "            height=\"475\"\n",
       "            src=\"http://DESKTOP-VA9MTMH:40000/dtale/iframe/1\"\n",
       "            frameborder=\"0\"\n",
       "            allowfullscreen\n",
       "        ></iframe>\n",
       "        "
      ],
      "text/plain": [
       "<IPython.lib.display.IFrame at 0x26afb702d48>"
      ]
     },
     "metadata": {},
     "output_type": "display_data"
    },
    {
     "data": {
      "text/plain": []
     },
     "execution_count": 3,
     "metadata": {},
     "output_type": "execute_result"
    }
   ],
   "source": [
    "dtale.show(df)"
   ]
  },
  {
   "cell_type": "code",
   "execution_count": 5,
   "metadata": {},
   "outputs": [],
   "source": [
    "# DISCLAIMER: 'df' refers to the data you passed in when calling 'dtale.show'\n",
    "\n",
    "import numpy as np\n",
    "import pandas as pd\n",
    "\n",
    "if isinstance(df, (pd.DatetimeIndex, pd.MultiIndex)):\n",
    "\tdf = df.to_frame(index=False)\n",
    "\n",
    "# remove any pre-existing indices for ease of use in the D-Tale code, but this is not required\n",
    "df = df.reset_index().drop('index', axis=1, errors='ignore')\n",
    "df.columns = [str(c) for c in df.columns]  # update columns to strings in case they are numbers\n",
    "\n",
    "chart = np.histogram(df[~pd.isnull(df['Total'])][['Total']], bins=20)\n",
    "# main statistics\n",
    "stats = df['Total'].describe().to_frame().T"
   ]
  },
  {
   "cell_type": "code",
   "execution_count": 6,
   "metadata": {},
   "outputs": [
    {
     "data": {
      "text/html": [
       "<div>\n",
       "<style scoped>\n",
       "    .dataframe tbody tr th:only-of-type {\n",
       "        vertical-align: middle;\n",
       "    }\n",
       "\n",
       "    .dataframe tbody tr th {\n",
       "        vertical-align: top;\n",
       "    }\n",
       "\n",
       "    .dataframe thead th {\n",
       "        text-align: right;\n",
       "    }\n",
       "</style>\n",
       "<table border=\"1\" class=\"dataframe\">\n",
       "  <thead>\n",
       "    <tr style=\"text-align: right;\">\n",
       "      <th></th>\n",
       "      <th>count</th>\n",
       "      <th>mean</th>\n",
       "      <th>std</th>\n",
       "      <th>min</th>\n",
       "      <th>25%</th>\n",
       "      <th>50%</th>\n",
       "      <th>75%</th>\n",
       "      <th>max</th>\n",
       "    </tr>\n",
       "  </thead>\n",
       "  <tbody>\n",
       "    <tr>\n",
       "      <td>Total</td>\n",
       "      <td>800.0</td>\n",
       "      <td>435.1025</td>\n",
       "      <td>119.96304</td>\n",
       "      <td>180.0</td>\n",
       "      <td>330.0</td>\n",
       "      <td>450.0</td>\n",
       "      <td>515.0</td>\n",
       "      <td>780.0</td>\n",
       "    </tr>\n",
       "  </tbody>\n",
       "</table>\n",
       "</div>"
      ],
      "text/plain": [
       "       count      mean        std    min    25%    50%    75%    max\n",
       "Total  800.0  435.1025  119.96304  180.0  330.0  450.0  515.0  780.0"
      ]
     },
     "execution_count": 6,
     "metadata": {},
     "output_type": "execute_result"
    }
   ],
   "source": [
    "stats"
   ]
  },
  {
   "cell_type": "code",
   "execution_count": 10,
   "metadata": {},
   "outputs": [
    {
     "data": {
      "text/plain": [
       "600    37\n",
       "405    26\n",
       "500    23\n",
       "580    23\n",
       "300    19\n",
       "       ..\n",
       "448     1\n",
       "454     1\n",
       "456     1\n",
       "461     1\n",
       "180     1\n",
       "Name: Total, Length: 200, dtype: int64"
      ]
     },
     "execution_count": 10,
     "metadata": {},
     "output_type": "execute_result"
    }
   ],
   "source": [
    "# DISCLAIMER: 'df' refers to the data you passed in when calling 'dtale.show'\n",
    "\n",
    "import numpy as np\n",
    "import pandas as pd\n",
    "\n",
    "if isinstance(df, (pd.DatetimeIndex, pd.MultiIndex)):\n",
    "\tdf = df.to_frame(index=False)\n",
    "\n",
    "# remove any pre-existing indices for ease of use in the D-Tale code, but this is not required\n",
    "df = df.reset_index().drop('index', axis=1, errors='ignore')\n",
    "df.columns = [str(c) for c in df.columns]  # update columns to strings in case they are numbers\n",
    "\n",
    "chart = pd.value_counts(df[~pd.isnull(df['Total'])]['Total'])\n",
    "chart"
   ]
  },
  {
   "cell_type": "code",
   "execution_count": 11,
   "metadata": {},
   "outputs": [
    {
     "data": {
      "text/plain": [
       "(array([ 1,  6,  8,  6,  5,  3,  7, 10, 11, 11, 16, 18, 47, 26, 22, 26, 17,\n",
       "        16, 14,  6, 12, 14, 33, 18, 19, 12, 13, 22, 26, 23, 40, 45, 33, 22,\n",
       "        34, 24, 11,  4,  4,  2, 23,  5, 37,  5,  2,  7,  1,  0,  1,  4, 13,\n",
       "         0,  9,  0,  1,  0,  0,  0,  0,  5], dtype=int64),\n",
       " array([180., 190., 200., 210., 220., 230., 240., 250., 260., 270., 280.,\n",
       "        290., 300., 310., 320., 330., 340., 350., 360., 370., 380., 390.,\n",
       "        400., 410., 420., 430., 440., 450., 460., 470., 480., 490., 500.,\n",
       "        510., 520., 530., 540., 550., 560., 570., 580., 590., 600., 610.,\n",
       "        620., 630., 640., 650., 660., 670., 680., 690., 700., 710., 720.,\n",
       "        730., 740., 750., 760., 770., 780.]))"
      ]
     },
     "execution_count": 11,
     "metadata": {},
     "output_type": "execute_result"
    }
   ],
   "source": [
    "# DISCLAIMER: 'df' refers to the data you passed in when calling 'dtale.show'\n",
    "\n",
    "import numpy as np\n",
    "import pandas as pd\n",
    "\n",
    "if isinstance(df, (pd.DatetimeIndex, pd.MultiIndex)):\n",
    "\tdf = df.to_frame(index=False)\n",
    "\n",
    "# remove any pre-existing indices for ease of use in the D-Tale code, but this is not required\n",
    "df = df.reset_index().drop('index', axis=1, errors='ignore')\n",
    "df.columns = [str(c) for c in df.columns]  # update columns to strings in case they are numbers\n",
    "\n",
    "chart = np.histogram(df[~pd.isnull(df['Total'])][['Total']], bins=60)\n",
    "# main statistics\n",
    "stats = df['Total'].describe().to_frame().T\n",
    "chart"
   ]
  },
  {
   "cell_type": "code",
   "execution_count": 12,
   "metadata": {},
   "outputs": [
    {
     "ename": "NameError",
     "evalue": "name 'plt' is not defined",
     "output_type": "error",
     "traceback": [
      "\u001b[1;31m---------------------------------------------------------------------------\u001b[0m",
      "\u001b[1;31mNameError\u001b[0m                                 Traceback (most recent call last)",
      "\u001b[1;32m<ipython-input-12-2d4afd424bca>\u001b[0m in \u001b[0;36m<module>\u001b[1;34m\u001b[0m\n\u001b[1;32m----> 1\u001b[1;33m \u001b[0mplt\u001b[0m\u001b[1;33m.\u001b[0m\u001b[0mshow\u001b[0m\u001b[1;33m(\u001b[0m\u001b[0mcharts\u001b[0m\u001b[1;33m)\u001b[0m\u001b[1;33m\u001b[0m\u001b[1;33m\u001b[0m\u001b[0m\n\u001b[0m",
      "\u001b[1;31mNameError\u001b[0m: name 'plt' is not defined"
     ]
    },
    {
     "name": "stdout",
     "output_type": "stream",
     "text": [
      "{'metas': '<meta http-equiv=\"X-UA-Compatible\" content=\"IE=edge\">\\n      <meta charset=\"UTF-8\">', 'title': 'Dash', 'css': '<link rel=\"stylesheet\" href=\"/css/main.css\">\\n<link rel=\"stylesheet\" href=\"/css/dash.css\">\\n<link rel=\"stylesheet\" href=\"/css/github_fork.css\">', 'config': '<script id=\"_dash-config\" type=\"application/json\">{\"url_base_pathname\": null, \"requests_pathname_prefix\": \"/charts/\", \"ui\": false, \"props_check\": false, \"show_undo_redo\": false, \"suppress_callback_exceptions\": true, \"update_title\": \"Updating...\"}</script>', 'scripts': '<script src=\"/charts/_dash-component-suites/dash_renderer/polyfill@7.v1_8_2m1601635162.8.7.min.js\"></script>\\n<script src=\"/charts/_dash-component-suites/dash_renderer/react@16.v1_8_2m1601635162.13.0.min.js\"></script>\\n<script src=\"/charts/_dash-component-suites/dash_renderer/react-dom@16.v1_8_2m1601635162.13.0.min.js\"></script>\\n<script src=\"/charts/_dash-component-suites/dash_renderer/prop-types@15.v1_8_2m1601635162.7.2.min.js\"></script>\\n<script src=\"/dash/components_bundle.js\"></script>\\n<script src=\"/dash/custom_bundle.js\"></script>\\n<script src=\"/dist/base_styles_bundle.js\"></script>\\n<script src=\"/charts/_dash-component-suites/dash_colorscales/bundle.v0_0_4m1601635160.js\"></script>\\n<script src=\"/charts/_dash-component-suites/dash_daq/async-colorpicker.v0_5_0m1601635159.js\"></script>\\n<script src=\"/charts/_dash-component-suites/dash_daq/async-slider.v0_5_0m1601635159.js\"></script>\\n<script src=\"/charts/_dash-component-suites/dash_daq/dash_daq.v0_5_0m1601635159.min.js\"></script>\\n<script src=\"/charts/_dash-component-suites/dash_bootstrap_components/_components/dash_bootstrap_components.v0_10_6m1601635125.min.js\"></script>\\n<script src=\"/charts/_dash-component-suites/dash_core_components/async-datepicker.v1_12_1m1601635164.js\"></script>\\n<script src=\"/charts/_dash-component-suites/dash_core_components/async-dropdown.v1_12_1m1601635164.js\"></script>\\n<script src=\"/charts/_dash-component-suites/dash_core_components/async-graph.v1_12_1m1601635164.js\"></script>\\n<script src=\"/charts/_dash-component-suites/dash_core_components/async-highlight.v1_12_1m1601635164.js\"></script>\\n<script src=\"/charts/_dash-component-suites/dash_core_components/async-markdown.v1_12_1m1601635164.js\"></script>\\n<script src=\"/charts/_dash-component-suites/dash_core_components/async-slider.v1_12_1m1601635164.js\"></script>\\n<script src=\"/charts/_dash-component-suites/dash_core_components/async-upload.v1_12_1m1601635164.js\"></script>\\n<script src=\"/charts/_dash-component-suites/dash_core_components/dash_core_components.v1_12_1m1601635164.min.js\"></script>\\n<script src=\"/charts/_dash-component-suites/dash_core_components/dash_core_components-shared.v1_12_1m1601635164.js\"></script>\\n<script src=\"/charts/_dash-component-suites/dash_core_components/plotly.v1_12_1m1601635164.min.js\"></script>\\n<script src=\"/charts/_dash-component-suites/dash_html_components/dash_html_components.v1_1_1m1601635166.min.js\"></script>\\n<script src=\"/charts/_dash-component-suites/dash_renderer/dash_renderer.v1_8_2m1601635162.min.js\"></script>', 'app_entry': '\\n<div id=\"react-entry-point\">\\n    <div class=\"_dash-loading\">\\n        Loading...\\n    </div>\\n</div>\\n', 'favicon': '<link rel=\"icon\" type=\"image/x-icon\" href=\"/charts/_favicon.ico?v=1.16.2\">', 'renderer': '<script id=\"_dash-renderer\" type=\"application/javascript\">var renderer = new DashRenderer();</script>'}\n"
     ]
    },
    {
     "name": "stderr",
     "output_type": "stream",
     "text": [
      "2020-10-02 11:41:58,373 - INFO     - NumExpr defaulting to 4 threads.\n"
     ]
    }
   ],
   "source": []
  },
  {
   "cell_type": "code",
   "execution_count": 14,
   "metadata": {},
   "outputs": [
    {
     "ename": "ValueError",
     "evalue": "No axis named ordinal for object type <class 'pandas.core.series.Series'>",
     "output_type": "error",
     "traceback": [
      "\u001b[1;31m---------------------------------------------------------------------------\u001b[0m",
      "\u001b[1;31mValueError\u001b[0m                                Traceback (most recent call last)",
      "\u001b[1;32m<ipython-input-14-e3ca2880d9f0>\u001b[0m in \u001b[0;36m<module>\u001b[1;34m\u001b[0m\n\u001b[0;32m     14\u001b[0m \u001b[0mordinal_data\u001b[0m \u001b[1;33m=\u001b[0m \u001b[0mdf\u001b[0m\u001b[1;33m.\u001b[0m\u001b[0mgroupby\u001b[0m\u001b[1;33m(\u001b[0m\u001b[1;34m'Name'\u001b[0m\u001b[1;33m)\u001b[0m\u001b[1;33m[\u001b[0m\u001b[1;33m[\u001b[0m\u001b[1;34m'HP'\u001b[0m\u001b[1;33m]\u001b[0m\u001b[1;33m]\u001b[0m\u001b[1;33m.\u001b[0m\u001b[0msum\u001b[0m\u001b[1;33m(\u001b[0m\u001b[1;33m)\u001b[0m\u001b[1;33m\u001b[0m\u001b[1;33m\u001b[0m\u001b[0m\n\u001b[0;32m     15\u001b[0m \u001b[0mchart\u001b[0m\u001b[1;33m[\u001b[0m\u001b[1;34m'ordinal'\u001b[0m\u001b[1;33m]\u001b[0m \u001b[1;33m=\u001b[0m \u001b[0mordinal_data\u001b[0m\u001b[1;33m\u001b[0m\u001b[1;33m\u001b[0m\u001b[0m\n\u001b[1;32m---> 16\u001b[1;33m \u001b[0mchart\u001b[0m \u001b[1;33m=\u001b[0m \u001b[0mchart\u001b[0m\u001b[1;33m.\u001b[0m\u001b[0msort_values\u001b[0m\u001b[1;33m(\u001b[0m\u001b[1;34m'ordinal'\u001b[0m\u001b[1;33m)\u001b[0m\u001b[1;33m\u001b[0m\u001b[1;33m\u001b[0m\u001b[0m\n\u001b[0m",
      "\u001b[1;32mC:\\Users\\imsanjoykb\\Anaconda3\\lib\\site-packages\\pandas\\core\\series.py\u001b[0m in \u001b[0;36msort_values\u001b[1;34m(self, axis, ascending, inplace, kind, na_position)\u001b[0m\n\u001b[0;32m   3135\u001b[0m         \u001b[0minplace\u001b[0m \u001b[1;33m=\u001b[0m \u001b[0mvalidate_bool_kwarg\u001b[0m\u001b[1;33m(\u001b[0m\u001b[0minplace\u001b[0m\u001b[1;33m,\u001b[0m \u001b[1;34m\"inplace\"\u001b[0m\u001b[1;33m)\u001b[0m\u001b[1;33m\u001b[0m\u001b[1;33m\u001b[0m\u001b[0m\n\u001b[0;32m   3136\u001b[0m         \u001b[1;31m# Validate the axis parameter\u001b[0m\u001b[1;33m\u001b[0m\u001b[1;33m\u001b[0m\u001b[1;33m\u001b[0m\u001b[0m\n\u001b[1;32m-> 3137\u001b[1;33m         \u001b[0mself\u001b[0m\u001b[1;33m.\u001b[0m\u001b[0m_get_axis_number\u001b[0m\u001b[1;33m(\u001b[0m\u001b[0maxis\u001b[0m\u001b[1;33m)\u001b[0m\u001b[1;33m\u001b[0m\u001b[1;33m\u001b[0m\u001b[0m\n\u001b[0m\u001b[0;32m   3138\u001b[0m \u001b[1;33m\u001b[0m\u001b[0m\n\u001b[0;32m   3139\u001b[0m         \u001b[1;31m# GH 5856/5853\u001b[0m\u001b[1;33m\u001b[0m\u001b[1;33m\u001b[0m\u001b[1;33m\u001b[0m\u001b[0m\n",
      "\u001b[1;32mC:\\Users\\imsanjoykb\\Anaconda3\\lib\\site-packages\\pandas\\core\\generic.py\u001b[0m in \u001b[0;36m_get_axis_number\u001b[1;34m(cls, axis)\u001b[0m\n\u001b[0;32m    409\u001b[0m             \u001b[1;32mexcept\u001b[0m \u001b[0mKeyError\u001b[0m\u001b[1;33m:\u001b[0m\u001b[1;33m\u001b[0m\u001b[1;33m\u001b[0m\u001b[0m\n\u001b[0;32m    410\u001b[0m                 \u001b[1;32mpass\u001b[0m\u001b[1;33m\u001b[0m\u001b[1;33m\u001b[0m\u001b[0m\n\u001b[1;32m--> 411\u001b[1;33m         \u001b[1;32mraise\u001b[0m \u001b[0mValueError\u001b[0m\u001b[1;33m(\u001b[0m\u001b[1;34m\"No axis named {0} for object type {1}\"\u001b[0m\u001b[1;33m.\u001b[0m\u001b[0mformat\u001b[0m\u001b[1;33m(\u001b[0m\u001b[0maxis\u001b[0m\u001b[1;33m,\u001b[0m \u001b[0mcls\u001b[0m\u001b[1;33m)\u001b[0m\u001b[1;33m)\u001b[0m\u001b[1;33m\u001b[0m\u001b[1;33m\u001b[0m\u001b[0m\n\u001b[0m\u001b[0;32m    412\u001b[0m \u001b[1;33m\u001b[0m\u001b[0m\n\u001b[0;32m    413\u001b[0m     \u001b[1;33m@\u001b[0m\u001b[0mclassmethod\u001b[0m\u001b[1;33m\u001b[0m\u001b[1;33m\u001b[0m\u001b[0m\n",
      "\u001b[1;31mValueError\u001b[0m: No axis named ordinal for object type <class 'pandas.core.series.Series'>"
     ]
    }
   ],
   "source": [
    "# DISCLAIMER: 'df' refers to the data you passed in when calling 'dtale.show'\n",
    "\n",
    "import numpy as np\n",
    "import pandas as pd\n",
    "\n",
    "if isinstance(df, (pd.DatetimeIndex, pd.MultiIndex)):\n",
    "\tdf = df.to_frame(index=False)\n",
    "\n",
    "# remove any pre-existing indices for ease of use in the D-Tale code, but this is not required\n",
    "df = df.reset_index().drop('index', axis=1, errors='ignore')\n",
    "df.columns = [str(c) for c in df.columns]  # update columns to strings in case they are numbers\n",
    "\n",
    "chart = pd.value_counts(df[~pd.isnull(df['Name'])]['Name'])\n",
    "ordinal_data = df.groupby('Name')[['HP']].sum()\n",
    "chart['ordinal'] = ordinal_data\n",
    "chart = chart.sort_values('ordinal')"
   ]
  },
  {
   "cell_type": "code",
   "execution_count": 16,
   "metadata": {},
   "outputs": [
    {
     "data": {
      "text/plain": [
       "Water       112\n",
       "Normal       98\n",
       "Grass        70\n",
       "Bug          69\n",
       "Psychic      57\n",
       "Fire         52\n",
       "Electric     44\n",
       "Rock         44\n",
       "Ground       32\n",
       "Ghost        32\n",
       "Dragon       32\n",
       "Dark         31\n",
       "Poison       28\n",
       "Fighting     27\n",
       "Steel        27\n",
       "Ice          24\n",
       "Fairy        17\n",
       "Flying        4\n",
       "Name: Type 1, dtype: int64"
      ]
     },
     "execution_count": 16,
     "metadata": {},
     "output_type": "execute_result"
    },
    {
     "name": "stdout",
     "output_type": "stream",
     "text": [
      "Exception occurred while processing request: window must be an integer\n",
      "Traceback (most recent call last):\n",
      "  File \"C:\\Users\\imsanjoykb\\Anaconda3\\lib\\site-packages\\dtale\\views.py\", line 77, in _handle_exceptions\n",
      "    return func(*args, **kwargs)\n",
      "  File \"C:\\Users\\imsanjoykb\\Anaconda3\\lib\\site-packages\\dtale\\views.py\", line 2028, in get_column_analysis\n",
      "    data.groupby(selected_col)[[ordinal_col]], ordinal_agg\n",
      "  File \"C:\\Users\\imsanjoykb\\Anaconda3\\lib\\site-packages\\pandas\\core\\groupby\\groupby.py\", line 1568, in rolling\n",
      "    return RollingGroupby(self, *args, **kwargs)\n",
      "  File \"C:\\Users\\imsanjoykb\\Anaconda3\\lib\\site-packages\\pandas\\core\\window.py\", line 845, in __init__\n",
      "    super().__init__(obj, *args, **kwargs)\n",
      "  File \"C:\\Users\\imsanjoykb\\Anaconda3\\lib\\site-packages\\pandas\\core\\window.py\", line 93, in __init__\n",
      "    self.validate()\n",
      "  File \"C:\\Users\\imsanjoykb\\Anaconda3\\lib\\site-packages\\pandas\\core\\window.py\", line 1738, in validate\n",
      "    raise ValueError(\"window must be an integer\")\n",
      "ValueError: window must be an integer\n"
     ]
    },
    {
     "name": "stderr",
     "output_type": "stream",
     "text": [
      "2020-10-02 12:00:27,597 - ERROR    - Exception occurred while processing request: window must be an integer\n",
      "Traceback (most recent call last):\n",
      "  File \"C:\\Users\\imsanjoykb\\Anaconda3\\lib\\site-packages\\dtale\\views.py\", line 77, in _handle_exceptions\n",
      "    return func(*args, **kwargs)\n",
      "  File \"C:\\Users\\imsanjoykb\\Anaconda3\\lib\\site-packages\\dtale\\views.py\", line 2028, in get_column_analysis\n",
      "    data.groupby(selected_col)[[ordinal_col]], ordinal_agg\n",
      "  File \"C:\\Users\\imsanjoykb\\Anaconda3\\lib\\site-packages\\pandas\\core\\groupby\\groupby.py\", line 1568, in rolling\n",
      "    return RollingGroupby(self, *args, **kwargs)\n",
      "  File \"C:\\Users\\imsanjoykb\\Anaconda3\\lib\\site-packages\\pandas\\core\\window.py\", line 845, in __init__\n",
      "    super().__init__(obj, *args, **kwargs)\n",
      "  File \"C:\\Users\\imsanjoykb\\Anaconda3\\lib\\site-packages\\pandas\\core\\window.py\", line 93, in __init__\n",
      "    self.validate()\n",
      "  File \"C:\\Users\\imsanjoykb\\Anaconda3\\lib\\site-packages\\pandas\\core\\window.py\", line 1738, in validate\n",
      "    raise ValueError(\"window must be an integer\")\n",
      "ValueError: window must be an integer\n"
     ]
    }
   ],
   "source": [
    "# DISCLAIMER: 'df' refers to the data you passed in when calling 'dtale.show'\n",
    "\n",
    "import numpy as np\n",
    "import pandas as pd\n",
    "\n",
    "if isinstance(df, (pd.DatetimeIndex, pd.MultiIndex)):\n",
    "\tdf = df.to_frame(index=False)\n",
    "\n",
    "# remove any pre-existing indices for ease of use in the D-Tale code, but this is not required\n",
    "df = df.reset_index().drop('index', axis=1, errors='ignore')\n",
    "df.columns = [str(c) for c in df.columns]  # update columns to strings in case they are numbers\n",
    "\n",
    "chart = pd.value_counts(df[~pd.isnull(df['Type 1'])]['Type 1'])\n",
    "chart"
   ]
  },
  {
   "cell_type": "code",
   "execution_count": 17,
   "metadata": {},
   "outputs": [],
   "source": [
    "# DISCLAIMER: 'df' refers to the data you passed in when calling 'dtale.show'\n",
    "\n",
    "import numpy as np\n",
    "import pandas as pd\n",
    "\n",
    "if isinstance(df, (pd.DatetimeIndex, pd.MultiIndex)):\n",
    "\tdf = df.to_frame(index=False)\n",
    "\n",
    "# remove any pre-existing indices for ease of use in the D-Tale code, but this is not required\n",
    "df = df.reset_index().drop('index', axis=1, errors='ignore')\n",
    "df.columns = [str(c) for c in df.columns]  # update columns to strings in case they are numbers\n",
    "\n",
    "chart = pd.value_counts(df[~pd.isnull(df['Defense'])]['Defense'])\n",
    "charts"
   ]
  },
  {
   "cell_type": "code",
   "execution_count": null,
   "metadata": {},
   "outputs": [],
   "source": []
  }
 ],
 "metadata": {
  "kernelspec": {
   "display_name": "Python 3",
   "language": "python",
   "name": "python3"
  },
  "language_info": {
   "codemirror_mode": {
    "name": "ipython",
    "version": 3
   },
   "file_extension": ".py",
   "mimetype": "text/x-python",
   "name": "python",
   "nbconvert_exporter": "python",
   "pygments_lexer": "ipython3",
   "version": "3.7.4"
  }
 },
 "nbformat": 4,
 "nbformat_minor": 2
}
