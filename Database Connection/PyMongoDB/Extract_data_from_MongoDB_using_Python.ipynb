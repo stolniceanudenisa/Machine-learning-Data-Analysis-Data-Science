{
 "cells": [
  {
   "cell_type": "markdown",
   "id": "special-climate",
   "metadata": {},
   "source": [
    "## Import the libraries"
   ]
  },
  {
   "cell_type": "code",
   "execution_count": 1,
   "id": "stupid-relative",
   "metadata": {},
   "outputs": [],
   "source": [
    "import pymongo\n",
    "from pymongo import MongoClient"
   ]
  },
  {
   "cell_type": "markdown",
   "id": "political-paintball",
   "metadata": {},
   "source": [
    "## Establish connection"
   ]
  },
  {
   "cell_type": "code",
   "execution_count": 2,
   "id": "printable-accommodation",
   "metadata": {},
   "outputs": [],
   "source": [
    "connection = MongoClient('localhost', 27017)\n",
    "db = connection.Employee #dtabase name"
   ]
  },
  {
   "cell_type": "markdown",
   "id": "smoking-sharing",
   "metadata": {},
   "source": [
    "## Print all collection name/table name"
   ]
  },
  {
   "cell_type": "code",
   "execution_count": 3,
   "id": "increasing-patio",
   "metadata": {},
   "outputs": [
    {
     "data": {
      "text/plain": [
       "['mydata', 'empdata']"
      ]
     },
     "execution_count": 3,
     "metadata": {},
     "output_type": "execute_result"
    }
   ],
   "source": [
    "db.list_collection_names(include_system_collections=False)"
   ]
  },
  {
   "cell_type": "markdown",
   "id": "academic-daisy",
   "metadata": {},
   "source": [
    "## Select any one collection/table to show data and Print each individual record"
   ]
  },
  {
   "cell_type": "code",
   "execution_count": 4,
   "id": "timely-register",
   "metadata": {},
   "outputs": [],
   "source": [
    "data = db.empdata #table nme / collection name\n",
    "EmployeeList = data.find()"
   ]
  },
  {
   "cell_type": "code",
   "execution_count": 5,
   "id": "pressing-routine",
   "metadata": {},
   "outputs": [
    {
     "name": "stdout",
     "output_type": "stream",
     "text": [
      "{'_id': ObjectId('60ec30db293b5702d9473b0f'), 'Name': 'Harihar', 'Age': 12.0}\n",
      "{'_id': ObjectId('60ec3177293b5702d9473b10'), 'Name': 'Harihar', 'Age': 32.0}\n",
      "{'_id': ObjectId('60ec317d293b5702d9473b11'), 'Name': 'Harihar', 'Age': 62.0}\n",
      "{'_id': ObjectId('60ec3186293b5702d9473b12'), 'Name': 'Harihdd', 'Age': 62.0}\n"
     ]
    }
   ],
   "source": [
    "for item in EmployeeList:\n",
    "    print(item)"
   ]
  },
  {
   "cell_type": "markdown",
   "id": "premier-triangle",
   "metadata": {},
   "source": [
    "## Create a dataframe to give structure to the NoSQL data"
   ]
  },
  {
   "cell_type": "code",
   "execution_count": 6,
   "id": "humanitarian-priest",
   "metadata": {},
   "outputs": [],
   "source": [
    "import pandas as pd\n",
    "df = pd.DataFrame(list(data.find()))"
   ]
  },
  {
   "cell_type": "code",
   "execution_count": 7,
   "id": "raising-gregory",
   "metadata": {},
   "outputs": [
    {
     "data": {
      "text/html": [
       "<div>\n",
       "<style scoped>\n",
       "    .dataframe tbody tr th:only-of-type {\n",
       "        vertical-align: middle;\n",
       "    }\n",
       "\n",
       "    .dataframe tbody tr th {\n",
       "        vertical-align: top;\n",
       "    }\n",
       "\n",
       "    .dataframe thead th {\n",
       "        text-align: right;\n",
       "    }\n",
       "</style>\n",
       "<table border=\"1\" class=\"dataframe\">\n",
       "  <thead>\n",
       "    <tr style=\"text-align: right;\">\n",
       "      <th></th>\n",
       "      <th>_id</th>\n",
       "      <th>Name</th>\n",
       "      <th>Age</th>\n",
       "    </tr>\n",
       "  </thead>\n",
       "  <tbody>\n",
       "    <tr>\n",
       "      <th>0</th>\n",
       "      <td>60ec30db293b5702d9473b0f</td>\n",
       "      <td>Harihar</td>\n",
       "      <td>12.0</td>\n",
       "    </tr>\n",
       "    <tr>\n",
       "      <th>1</th>\n",
       "      <td>60ec3177293b5702d9473b10</td>\n",
       "      <td>Harihar</td>\n",
       "      <td>32.0</td>\n",
       "    </tr>\n",
       "    <tr>\n",
       "      <th>2</th>\n",
       "      <td>60ec317d293b5702d9473b11</td>\n",
       "      <td>Harihar</td>\n",
       "      <td>62.0</td>\n",
       "    </tr>\n",
       "    <tr>\n",
       "      <th>3</th>\n",
       "      <td>60ec3186293b5702d9473b12</td>\n",
       "      <td>Harihdd</td>\n",
       "      <td>62.0</td>\n",
       "    </tr>\n",
       "  </tbody>\n",
       "</table>\n",
       "</div>"
      ],
      "text/plain": [
       "                        _id     Name   Age\n",
       "0  60ec30db293b5702d9473b0f  Harihar  12.0\n",
       "1  60ec3177293b5702d9473b10  Harihar  32.0\n",
       "2  60ec317d293b5702d9473b11  Harihar  62.0\n",
       "3  60ec3186293b5702d9473b12  Harihdd  62.0"
      ]
     },
     "execution_count": 7,
     "metadata": {},
     "output_type": "execute_result"
    }
   ],
   "source": [
    "df"
   ]
  }
 ],
 "metadata": {
  "kernelspec": {
   "display_name": "Python 3",
   "language": "python",
   "name": "python3"
  },
  "language_info": {
   "codemirror_mode": {
    "name": "ipython",
    "version": 3
   },
   "file_extension": ".py",
   "mimetype": "text/x-python",
   "name": "python",
   "nbconvert_exporter": "python",
   "pygments_lexer": "ipython3",
   "version": "3.7.6"
  }
 },
 "nbformat": 4,
 "nbformat_minor": 5
}
