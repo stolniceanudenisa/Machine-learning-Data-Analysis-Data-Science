{
 "cells": [
  {
   "cell_type": "code",
   "execution_count": 1,
   "id": "refined-forwarding",
   "metadata": {},
   "outputs": [],
   "source": [
    "import pymongo\n",
    "from pymongo import MongoClient"
   ]
  },
  {
   "cell_type": "markdown",
   "id": "proprietary-moore",
   "metadata": {},
   "source": [
    "## Establish a Connection"
   ]
  },
  {
   "cell_type": "code",
   "execution_count": 2,
   "id": "minimal-withdrawal",
   "metadata": {},
   "outputs": [],
   "source": [
    "connection = MongoClient('localhost', 27017)"
   ]
  },
  {
   "cell_type": "markdown",
   "id": "healthy-rehabilitation",
   "metadata": {},
   "source": [
    "## Getting a Database"
   ]
  },
  {
   "cell_type": "code",
   "execution_count": 3,
   "id": "virgin-fusion",
   "metadata": {},
   "outputs": [],
   "source": [
    "db = connection.Employee"
   ]
  },
  {
   "cell_type": "markdown",
   "id": "attractive-thesis",
   "metadata": {},
   "source": [
    "## Getting a Collection"
   ]
  },
  {
   "cell_type": "code",
   "execution_count": 4,
   "id": "theoretical-blade",
   "metadata": {},
   "outputs": [
    {
     "data": {
      "text/plain": [
       "['mydata', 'empdata']"
      ]
     },
     "execution_count": 4,
     "metadata": {},
     "output_type": "execute_result"
    }
   ],
   "source": [
    "db.list_collection_names()"
   ]
  },
  {
   "cell_type": "markdown",
   "id": "convertible-imagination",
   "metadata": {},
   "source": [
    "## Fetch Data"
   ]
  },
  {
   "cell_type": "code",
   "execution_count": 5,
   "id": "announced-genealogy",
   "metadata": {},
   "outputs": [],
   "source": [
    "data = db.empdata #table nme / collection name\n",
    "EmployeeList = data.find()"
   ]
  },
  {
   "cell_type": "code",
   "execution_count": 6,
   "id": "precious-elephant",
   "metadata": {},
   "outputs": [
    {
     "name": "stdout",
     "output_type": "stream",
     "text": [
      "{'_id': ObjectId('60ec30db293b5702d9473b0f'), 'Name': 'Harihar', 'Age': 12.0}\n",
      "{'_id': ObjectId('60ec3177293b5702d9473b10'), 'Name': 'Harihar', 'Age': 32.0}\n",
      "{'_id': ObjectId('60ec317d293b5702d9473b11'), 'Name': 'Harihar', 'Age': 62.0}\n",
      "{'_id': ObjectId('60ec3186293b5702d9473b12'), 'Name': 'Harihdd', 'Age': 62.0}\n",
      "{'_id': ObjectId('60ec39223838a935caa05807'), 'Name': 'Krish', 'Age': 29}\n",
      "{'_id': ObjectId('60ec39553838a935caa05809'), 'Name': 'Ram', 'Age': 29}\n",
      "{'_id': ObjectId('60ec39c33838a935caa0580a'), 'Name': 'John', 'qualification': 'statistics', 'Age': 35}\n",
      "{'_id': ObjectId('60ec39c33838a935caa0580b'), 'Name': 'John ', 'Age': 30}\n",
      "{'_id': ObjectId('60ec39c33838a935caa0580c'), 'Name': 'Manish', 'Age': 34}\n",
      "{'_id': ObjectId('60ec39c33838a935caa0580d'), 'Name': 'Ram', 'Age': 32}\n",
      "{'_id': ObjectId('60ec3b585ebb2c7fb74db698'), 'Name': 'Krish', 'Age': 29}\n",
      "{'_id': ObjectId('60ec3b585ebb2c7fb74db699'), 'Name': 'Ram', 'Age': 29}\n",
      "{'_id': ObjectId('60ec3b585ebb2c7fb74db69a'), 'Name': 'John', 'qualification': 'statistics', 'Age': 35}\n",
      "{'_id': ObjectId('60ec3b585ebb2c7fb74db69b'), 'Name': 'John ', 'Age': 30}\n",
      "{'_id': ObjectId('60ec3b585ebb2c7fb74db69c'), 'Name': 'Manish', 'Age': 34}\n",
      "{'_id': ObjectId('60ec3b585ebb2c7fb74db69d'), 'Name': 'Ram', 'Age': 32}\n"
     ]
    }
   ],
   "source": [
    "for item in EmployeeList:\n",
    "    print(item)"
   ]
  },
  {
   "cell_type": "markdown",
   "id": "silent-plaza",
   "metadata": {},
   "source": [
    "## Insert New Record\n",
    "\n",
    "#### 1. One Record"
   ]
  },
  {
   "cell_type": "code",
   "execution_count": 7,
   "id": "cardiac-monster",
   "metadata": {},
   "outputs": [
    {
     "data": {
      "text/plain": [
       "<pymongo.results.InsertOneResult at 0x2335506c788>"
      ]
     },
     "execution_count": 7,
     "metadata": {},
     "output_type": "execute_result"
    }
   ],
   "source": [
    "record={\n",
    "        'Name':'Krish',\n",
    "        'Age':29\n",
    "        }\n",
    "data.insert_one(record)"
   ]
  },
  {
   "cell_type": "code",
   "execution_count": 8,
   "id": "express-industry",
   "metadata": {},
   "outputs": [
    {
     "data": {
      "text/plain": [
       "<pymongo.results.InsertOneResult at 0x233550967c8>"
      ]
     },
     "execution_count": 8,
     "metadata": {},
     "output_type": "execute_result"
    }
   ],
   "source": [
    "record={\n",
    "        'Name':'Ram',\n",
    "        'Age':29\n",
    "        }\n",
    "data.insert_one(record)"
   ]
  },
  {
   "cell_type": "markdown",
   "id": "substantial-attendance",
   "metadata": {},
   "source": [
    "#### 2. Insert Many Record"
   ]
  },
  {
   "cell_type": "code",
   "execution_count": 9,
   "id": "imported-morocco",
   "metadata": {},
   "outputs": [
    {
     "data": {
      "text/plain": [
       "<pymongo.results.InsertManyResult at 0x23354c53948>"
      ]
     },
     "execution_count": 9,
     "metadata": {},
     "output_type": "execute_result"
    }
   ],
   "source": [
    "records=[{\n",
    "        'Name':'John',\n",
    "        'qualification':'statistics',\n",
    "        'Age':35\n",
    "        \n",
    "        },\n",
    "         {\n",
    "        'Name':'John ',\n",
    "        'Age':30\n",
    "        \n",
    "        },\n",
    "        {\n",
    "        'Name':'Manish',\n",
    "        'Age':34\n",
    "        \n",
    "        },\n",
    "        {\n",
    "        'Name':'Ram',\n",
    "        'Age':32\n",
    "        \n",
    "        }]\n",
    "\n",
    "data.insert_many(records)"
   ]
  },
  {
   "cell_type": "markdown",
   "id": "aboriginal-poker",
   "metadata": {},
   "source": [
    "## Serach Data From DataBase"
   ]
  },
  {
   "cell_type": "code",
   "execution_count": 10,
   "id": "stretch-campbell",
   "metadata": {},
   "outputs": [
    {
     "data": {
      "text/plain": [
       "{'Age': 12.0, 'Name': 'Harihar', '_id': ObjectId('60ec30db293b5702d9473b0f')}"
      ]
     },
     "execution_count": 10,
     "metadata": {},
     "output_type": "execute_result"
    }
   ],
   "source": [
    "data.find_one()"
   ]
  },
  {
   "cell_type": "code",
   "execution_count": 11,
   "id": "industrial-nothing",
   "metadata": {},
   "outputs": [
    {
     "name": "stdout",
     "output_type": "stream",
     "text": [
      "{'_id': ObjectId('60ec30db293b5702d9473b0f'), 'Name': 'Harihar', 'Age': 12.0}\n",
      "{'_id': ObjectId('60ec3177293b5702d9473b10'), 'Name': 'Harihar', 'Age': 32.0}\n",
      "{'_id': ObjectId('60ec317d293b5702d9473b11'), 'Name': 'Harihar', 'Age': 62.0}\n",
      "{'_id': ObjectId('60ec3186293b5702d9473b12'), 'Name': 'Harihdd', 'Age': 62.0}\n",
      "{'_id': ObjectId('60ec39223838a935caa05807'), 'Name': 'Krish', 'Age': 29}\n",
      "{'_id': ObjectId('60ec39553838a935caa05809'), 'Name': 'Ram', 'Age': 29}\n",
      "{'_id': ObjectId('60ec39c33838a935caa0580a'), 'Name': 'John', 'qualification': 'statistics', 'Age': 35}\n",
      "{'_id': ObjectId('60ec39c33838a935caa0580b'), 'Name': 'John ', 'Age': 30}\n",
      "{'_id': ObjectId('60ec39c33838a935caa0580c'), 'Name': 'Manish', 'Age': 34}\n",
      "{'_id': ObjectId('60ec39c33838a935caa0580d'), 'Name': 'Ram', 'Age': 32}\n",
      "{'_id': ObjectId('60ec3b585ebb2c7fb74db698'), 'Name': 'Krish', 'Age': 29}\n",
      "{'_id': ObjectId('60ec3b585ebb2c7fb74db699'), 'Name': 'Ram', 'Age': 29}\n",
      "{'_id': ObjectId('60ec3b585ebb2c7fb74db69a'), 'Name': 'John', 'qualification': 'statistics', 'Age': 35}\n",
      "{'_id': ObjectId('60ec3b585ebb2c7fb74db69b'), 'Name': 'John ', 'Age': 30}\n",
      "{'_id': ObjectId('60ec3b585ebb2c7fb74db69c'), 'Name': 'Manish', 'Age': 34}\n",
      "{'_id': ObjectId('60ec3b585ebb2c7fb74db69d'), 'Name': 'Ram', 'Age': 32}\n",
      "{'_id': ObjectId('60ec3c1bc413434812f6862d'), 'Name': 'Krish', 'Age': 29}\n",
      "{'_id': ObjectId('60ec3c1bc413434812f6862e'), 'Name': 'Ram', 'Age': 29}\n",
      "{'_id': ObjectId('60ec3c1bc413434812f6862f'), 'Name': 'John', 'qualification': 'statistics', 'Age': 35}\n",
      "{'_id': ObjectId('60ec3c1bc413434812f68630'), 'Name': 'John ', 'Age': 30}\n",
      "{'_id': ObjectId('60ec3c1bc413434812f68631'), 'Name': 'Manish', 'Age': 34}\n",
      "{'_id': ObjectId('60ec3c1bc413434812f68632'), 'Name': 'Ram', 'Age': 32}\n"
     ]
    }
   ],
   "source": [
    "## Select * from employeeinformation\n",
    "for record in data.find({}):\n",
    "    print(record)"
   ]
  },
  {
   "cell_type": "code",
   "execution_count": 12,
   "id": "mounted-password",
   "metadata": {},
   "outputs": [
    {
     "name": "stdout",
     "output_type": "stream",
     "text": [
      "{'_id': ObjectId('60ec30db293b5702d9473b0f'), 'Name': 'Harihar', 'Age': 12.0}\n",
      "{'_id': ObjectId('60ec3177293b5702d9473b10'), 'Name': 'Harihar', 'Age': 32.0}\n",
      "{'_id': ObjectId('60ec317d293b5702d9473b11'), 'Name': 'Harihar', 'Age': 62.0}\n"
     ]
    }
   ],
   "source": [
    "for record in data.find({'Name':'Harihar'}):\n",
    "    print(record)"
   ]
  },
  {
   "cell_type": "markdown",
   "id": "marked-circle",
   "metadata": {},
   "source": [
    "## Query documents using query operators"
   ]
  },
  {
   "cell_type": "markdown",
   "id": "active-brook",
   "metadata": {},
   "source": [
    "### 1. In Operator"
   ]
  },
  {
   "cell_type": "code",
   "execution_count": 13,
   "id": "incredible-orange",
   "metadata": {},
   "outputs": [
    {
     "name": "stdout",
     "output_type": "stream",
     "text": [
      "{'_id': ObjectId('60ec39c33838a935caa0580a'), 'Name': 'John', 'qualification': 'statistics', 'Age': 35}\n",
      "{'_id': ObjectId('60ec3b585ebb2c7fb74db69a'), 'Name': 'John', 'qualification': 'statistics', 'Age': 35}\n",
      "{'_id': ObjectId('60ec3c1bc413434812f6862f'), 'Name': 'John', 'qualification': 'statistics', 'Age': 35}\n"
     ]
    }
   ],
   "source": [
    "for record in data.find({'qualification':{'$in':['statistics']}}):\n",
    "    print(record)"
   ]
  },
  {
   "cell_type": "markdown",
   "id": "reported-leone",
   "metadata": {},
   "source": [
    "### 2. Less than/ Lessthan Equal"
   ]
  },
  {
   "cell_type": "code",
   "execution_count": 14,
   "id": "decimal-question",
   "metadata": {},
   "outputs": [
    {
     "name": "stdout",
     "output_type": "stream",
     "text": [
      "{'_id': ObjectId('60ec30db293b5702d9473b0f'), 'Name': 'Harihar', 'Age': 12.0}\n",
      "{'_id': ObjectId('60ec3177293b5702d9473b10'), 'Name': 'Harihar', 'Age': 32.0}\n",
      "{'_id': ObjectId('60ec39223838a935caa05807'), 'Name': 'Krish', 'Age': 29}\n",
      "{'_id': ObjectId('60ec39553838a935caa05809'), 'Name': 'Ram', 'Age': 29}\n",
      "{'_id': ObjectId('60ec39c33838a935caa0580b'), 'Name': 'John ', 'Age': 30}\n",
      "{'_id': ObjectId('60ec39c33838a935caa0580c'), 'Name': 'Manish', 'Age': 34}\n",
      "{'_id': ObjectId('60ec39c33838a935caa0580d'), 'Name': 'Ram', 'Age': 32}\n",
      "{'_id': ObjectId('60ec3b585ebb2c7fb74db698'), 'Name': 'Krish', 'Age': 29}\n",
      "{'_id': ObjectId('60ec3b585ebb2c7fb74db699'), 'Name': 'Ram', 'Age': 29}\n",
      "{'_id': ObjectId('60ec3b585ebb2c7fb74db69b'), 'Name': 'John ', 'Age': 30}\n",
      "{'_id': ObjectId('60ec3b585ebb2c7fb74db69c'), 'Name': 'Manish', 'Age': 34}\n",
      "{'_id': ObjectId('60ec3b585ebb2c7fb74db69d'), 'Name': 'Ram', 'Age': 32}\n",
      "{'_id': ObjectId('60ec3c1bc413434812f6862d'), 'Name': 'Krish', 'Age': 29}\n",
      "{'_id': ObjectId('60ec3c1bc413434812f6862e'), 'Name': 'Ram', 'Age': 29}\n",
      "{'_id': ObjectId('60ec3c1bc413434812f68630'), 'Name': 'John ', 'Age': 30}\n",
      "{'_id': ObjectId('60ec3c1bc413434812f68631'), 'Name': 'Manish', 'Age': 34}\n",
      "{'_id': ObjectId('60ec3c1bc413434812f68632'), 'Name': 'Ram', 'Age': 32}\n"
     ]
    }
   ],
   "source": [
    "## And and Query operators lessthan\n",
    "for record in data.find({'Age':{'$lt':35}}):\n",
    "    print(record)"
   ]
  },
  {
   "cell_type": "code",
   "execution_count": 15,
   "id": "pregnant-humor",
   "metadata": {},
   "outputs": [
    {
     "name": "stdout",
     "output_type": "stream",
     "text": [
      "{'_id': ObjectId('60ec30db293b5702d9473b0f'), 'Name': 'Harihar', 'Age': 12.0}\n",
      "{'_id': ObjectId('60ec3177293b5702d9473b10'), 'Name': 'Harihar', 'Age': 32.0}\n",
      "{'_id': ObjectId('60ec39223838a935caa05807'), 'Name': 'Krish', 'Age': 29}\n",
      "{'_id': ObjectId('60ec39553838a935caa05809'), 'Name': 'Ram', 'Age': 29}\n",
      "{'_id': ObjectId('60ec39c33838a935caa0580a'), 'Name': 'John', 'qualification': 'statistics', 'Age': 35}\n",
      "{'_id': ObjectId('60ec39c33838a935caa0580b'), 'Name': 'John ', 'Age': 30}\n",
      "{'_id': ObjectId('60ec39c33838a935caa0580c'), 'Name': 'Manish', 'Age': 34}\n",
      "{'_id': ObjectId('60ec39c33838a935caa0580d'), 'Name': 'Ram', 'Age': 32}\n",
      "{'_id': ObjectId('60ec3b585ebb2c7fb74db698'), 'Name': 'Krish', 'Age': 29}\n",
      "{'_id': ObjectId('60ec3b585ebb2c7fb74db699'), 'Name': 'Ram', 'Age': 29}\n",
      "{'_id': ObjectId('60ec3b585ebb2c7fb74db69a'), 'Name': 'John', 'qualification': 'statistics', 'Age': 35}\n",
      "{'_id': ObjectId('60ec3b585ebb2c7fb74db69b'), 'Name': 'John ', 'Age': 30}\n",
      "{'_id': ObjectId('60ec3b585ebb2c7fb74db69c'), 'Name': 'Manish', 'Age': 34}\n",
      "{'_id': ObjectId('60ec3b585ebb2c7fb74db69d'), 'Name': 'Ram', 'Age': 32}\n",
      "{'_id': ObjectId('60ec3c1bc413434812f6862d'), 'Name': 'Krish', 'Age': 29}\n",
      "{'_id': ObjectId('60ec3c1bc413434812f6862e'), 'Name': 'Ram', 'Age': 29}\n",
      "{'_id': ObjectId('60ec3c1bc413434812f6862f'), 'Name': 'John', 'qualification': 'statistics', 'Age': 35}\n",
      "{'_id': ObjectId('60ec3c1bc413434812f68630'), 'Name': 'John ', 'Age': 30}\n",
      "{'_id': ObjectId('60ec3c1bc413434812f68631'), 'Name': 'Manish', 'Age': 34}\n",
      "{'_id': ObjectId('60ec3c1bc413434812f68632'), 'Name': 'Ram', 'Age': 32}\n"
     ]
    }
   ],
   "source": [
    "## And and Query operators lessthanequal\n",
    "for record in data.find({'Age':{'$lte':35}}):\n",
    "    print(record)"
   ]
  },
  {
   "cell_type": "markdown",
   "id": "ultimate-assault",
   "metadata": {},
   "source": [
    "### 3. Greater Than / Greater Than Equal"
   ]
  },
  {
   "cell_type": "code",
   "execution_count": 16,
   "id": "subsequent-publicity",
   "metadata": {},
   "outputs": [
    {
     "name": "stdout",
     "output_type": "stream",
     "text": [
      "{'_id': ObjectId('60ec317d293b5702d9473b11'), 'Name': 'Harihar', 'Age': 62.0}\n",
      "{'_id': ObjectId('60ec3186293b5702d9473b12'), 'Name': 'Harihdd', 'Age': 62.0}\n"
     ]
    }
   ],
   "source": [
    "## And and Query operators lessthan\n",
    "for record in data.find({'Age':{'$gt':35}}):\n",
    "    print(record)"
   ]
  },
  {
   "cell_type": "code",
   "execution_count": 17,
   "id": "noble-spine",
   "metadata": {},
   "outputs": [
    {
     "name": "stdout",
     "output_type": "stream",
     "text": [
      "{'_id': ObjectId('60ec317d293b5702d9473b11'), 'Name': 'Harihar', 'Age': 62.0}\n",
      "{'_id': ObjectId('60ec3186293b5702d9473b12'), 'Name': 'Harihdd', 'Age': 62.0}\n",
      "{'_id': ObjectId('60ec39c33838a935caa0580a'), 'Name': 'John', 'qualification': 'statistics', 'Age': 35}\n",
      "{'_id': ObjectId('60ec3b585ebb2c7fb74db69a'), 'Name': 'John', 'qualification': 'statistics', 'Age': 35}\n",
      "{'_id': ObjectId('60ec3c1bc413434812f6862f'), 'Name': 'John', 'qualification': 'statistics', 'Age': 35}\n"
     ]
    }
   ],
   "source": [
    "## And and Query operators lessthan\n",
    "for record in data.find({'Age':{'$gte':35}}):\n",
    "    print(record)"
   ]
  },
  {
   "cell_type": "markdown",
   "id": "bronze-costume",
   "metadata": {},
   "source": [
    "### 4. Or | and Operator"
   ]
  },
  {
   "cell_type": "code",
   "execution_count": 18,
   "id": "agricultural-sequence",
   "metadata": {},
   "outputs": [
    {
     "name": "stdout",
     "output_type": "stream",
     "text": [
      "{'_id': ObjectId('60ec39223838a935caa05807'), 'Name': 'Krish', 'Age': 29}\n",
      "{'_id': ObjectId('60ec39c33838a935caa0580a'), 'Name': 'John', 'qualification': 'statistics', 'Age': 35}\n",
      "{'_id': ObjectId('60ec3b585ebb2c7fb74db698'), 'Name': 'Krish', 'Age': 29}\n",
      "{'_id': ObjectId('60ec3b585ebb2c7fb74db69a'), 'Name': 'John', 'qualification': 'statistics', 'Age': 35}\n",
      "{'_id': ObjectId('60ec3c1bc413434812f6862d'), 'Name': 'Krish', 'Age': 29}\n",
      "{'_id': ObjectId('60ec3c1bc413434812f6862f'), 'Name': 'John', 'qualification': 'statistics', 'Age': 35}\n"
     ]
    }
   ],
   "source": [
    "## OR operators\n",
    "for record in data.find({'$or':[{'Name':'Krish'},{'qualification':'statistics'}]}):\n",
    "    print(record)"
   ]
  },
  {
   "cell_type": "code",
   "execution_count": 19,
   "id": "extensive-estonia",
   "metadata": {},
   "outputs": [
    {
     "name": "stdout",
     "output_type": "stream",
     "text": [
      "{'_id': ObjectId('60ec39c33838a935caa0580a'), 'Name': 'John', 'qualification': 'statistics', 'Age': 35}\n",
      "{'_id': ObjectId('60ec3b585ebb2c7fb74db69a'), 'Name': 'John', 'qualification': 'statistics', 'Age': 35}\n",
      "{'_id': ObjectId('60ec3c1bc413434812f6862f'), 'Name': 'John', 'qualification': 'statistics', 'Age': 35}\n"
     ]
    }
   ],
   "source": [
    "## OR operators\n",
    "for record in data.find({'$and':[{'Name':'John'},{'qualification':'statistics'}]}):\n",
    "    print(record)"
   ]
  }
 ],
 "metadata": {
  "kernelspec": {
   "display_name": "Python 3",
   "language": "python",
   "name": "python3"
  },
  "language_info": {
   "codemirror_mode": {
    "name": "ipython",
    "version": 3
   },
   "file_extension": ".py",
   "mimetype": "text/x-python",
   "name": "python",
   "nbconvert_exporter": "python",
   "pygments_lexer": "ipython3",
   "version": "3.7.6"
  }
 },
 "nbformat": 4,
 "nbformat_minor": 5
}
